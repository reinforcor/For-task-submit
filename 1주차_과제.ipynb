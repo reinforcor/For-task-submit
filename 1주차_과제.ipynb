{
  "nbformat": 4,
  "nbformat_minor": 0,
  "metadata": {
    "colab": {
      "name": "1주차 과제.ipynb",
      "provenance": [],
      "collapsed_sections": [],
      "authorship_tag": "ABX9TyMhYEDmZkcu8u01qHO8mzxE",
      "include_colab_link": true
    },
    "kernelspec": {
      "name": "python3",
      "display_name": "Python 3"
    }
  },
  "cells": [
    {
      "cell_type": "markdown",
      "metadata": {
        "id": "view-in-github",
        "colab_type": "text"
      },
      "source": [
        "<a href=\"https://colab.research.google.com/github/reinforcor/For-task-submit/blob/master/1%EC%A3%BC%EC%B0%A8_%EA%B3%BC%EC%A0%9C.ipynb\" target=\"_parent\"><img src=\"https://colab.research.google.com/assets/colab-badge.svg\" alt=\"Open In Colab\"/></a>"
      ]
    },
    {
      "cell_type": "code",
      "metadata": {
        "id": "zjGucLz6Ybua",
        "colab_type": "code",
        "colab": {}
      },
      "source": [
        ""
      ],
      "execution_count": 0,
      "outputs": []
    },
    {
      "cell_type": "markdown",
      "metadata": {
        "id": "2XTXMMT7Yb2n",
        "colab_type": "text"
      },
      "source": [
        "#인공지능 사관학교 1주차 과제\n",
        "\n",
        "##-. 실생활에서 사용되는 인공지능 기술 4가지의 제품 및 서비스 분석\n",
        "\n",
        "\n",
        "\n",
        "1.언어 - [Papago(번역)](https://papago.naver.com/)\n",
        "\n",
        "Naver corporation(한.네이버)에서 개발한 AI 번역 서비스로서 인공 신경망(Artificial Neural Network) 기술을 사용해 13개 국가의 언어를 글자 단위로 직접 분석해 번역하고자 하는 국가의 언어로 치환해주는 프로그램이다.\n",
        "\n",
        "사진과 이미지를 분석하는 기능도 지원하고 있으며, 번역 성능이 우수하기 때문에 영어, 일본어 번역이 필요한 이용자들에게 자주 사용되지만 글자 판독의 오류로 인한 오역의 문제점이 지적되고 있다.\n",
        "\n",
        "\n",
        "\n",
        "2. 음성 -  [Clova Voice(음성합성)](https://clova.ai/voice)\n",
        "\n",
        "Naver corporation(한.네이버)에서 개발한 AI 음성 합성 기술로 특정한 문장을 기록하면 원하는 음성으로 해당 문장을 낭독하게 만들어주는 프로그램이다\n",
        "\n",
        "AI가 낭독하게 할 성별, 나이, 감정 등을 선택할 수도 있으며 한국어를 기반으로 하고 있으나 제한적으로 타 국가의 언어또한 지원한다.\n",
        "\n",
        "\n",
        "\n",
        "3. 이미지 - [Vision AI(이미지 인식)](https://cloud.google.com/vision?hl=ko)\n",
        "\n",
        "구글에서 개발한 이미지 판독 시스템으로 Vision api라는 기술을 사용하여 이미지를 분석한다. 해당 이미지의 내용을 판단해, 인물, 배경을 골라낼수 있으며 50개국의 언어를 해석할수 있고, 이를 바탕으로 해당 이미지가 부적절한 콘텐츠거나 폭력적인 콘텐츠인지 확인할 수 있다.\n",
        "\n",
        "또한 Vision Ai만의 장점으로 여러 작업을 한꺼번에 할 수 있고 판독에 걸리는 시간이 타 제품에 비해 적다.\n",
        "\n",
        "\n",
        "4. 자동주행 - [테슬라 오토 파일럿](https://www.tesla.com/ko_KR/autopilot)\n",
        "\n",
        "테슬라(Tesla)에서 출시한 최첨단 운전자 보조 시스템(Advanced Driver Assistance System)으로 이미 판매된 제품에서 데이터를 수집하고 이를 바탕으로 판단력을 강화하는 특징이 있다.\n",
        "\n",
        "현재는 운전을 보조해 속도를 조절하는 자동운행(AutoPilot)과 자동 차선 변경, 자동 주차, 표지판, 신호등을 판별해 정차하는 오토파일럿 내비게이션 등을 지원하는 완전 자율 주행(Full Self Driving Capability) 2가지 기능이 있다.\n",
        "\n"
      ]
    },
    {
      "cell_type": "markdown",
      "metadata": {
        "id": "QXbMwGm3mr8m",
        "colab_type": "text"
      },
      "source": [
        ""
      ]
    }
  ]
}